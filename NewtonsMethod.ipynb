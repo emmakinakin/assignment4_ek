{
 "cells": [
  {
   "cell_type": "markdown",
   "metadata": {},
   "source": [
    "### Two functions for Newton's Method"
   ]
  },
  {
   "cell_type": "markdown",
   "metadata": {},
   "source": [
    "#### Function One: Takes f and f'"
   ]
  },
  {
   "cell_type": "code",
   "execution_count": null,
   "metadata": {},
   "outputs": [],
   "source": [
    "using LinearAlgebra\n",
    "\n",
    "function newtonsmethod(f,f_prime,x_0,tolerance,maxiter)\n",
    "    x_old=x_0\n",
    "    normdiff=Inf\n",
    "    iter=1\n",
    "    while normdiff>tolerance && iter<=maxiter\n",
    "        x_new= x_old - f(x_old)/f_prime(x_old)\n",
    "        normdiff=norm(x_new-x_old)\n",
    "        x_old=x_new\n",
    "        iter = iter + 1 \n",
    "    end\n",
    "    return (value=x_old,normdiff=normdiff,iter=iter)\n",
    "end\n",
    "    "
   ]
  },
  {
   "cell_type": "code",
   "execution_count": 7,
   "metadata": {},
   "outputs": [
    {
     "data": {
      "text/plain": [
       "(value = 1.0001584085121695, normdiff = 7.920425608465287e-5, iter = 26)"
      ]
     },
     "execution_count": 7,
     "metadata": {},
     "output_type": "execute_result"
    }
   ],
   "source": [
    "testfn(x)= (x-1)^3\n",
    "testfn_prime(x)=3*(x-1)^2\n",
    "sol=newtonsmethod(testfn,testfn_prime,5,0.0001,100)\n",
    "\n"
   ]
  },
  {
   "cell_type": "code",
   "execution_count": 8,
   "metadata": {},
   "outputs": [
    {
     "data": {
      "text/plain": [
       "3.974985463732999e-12"
      ]
     },
     "execution_count": 8,
     "metadata": {},
     "output_type": "execute_result"
    }
   ],
   "source": [
    "#test to see if it works\n",
    "test=sol[1]\n",
    "testfn(test)"
   ]
  },
  {
   "cell_type": "code",
   "execution_count": 9,
   "metadata": {},
   "outputs": [
    {
     "data": {
      "text/plain": [
       "(value = -4.117942271444376, normdiff = 1.1337608185613135e-8, iter = 62)"
      ]
     },
     "execution_count": 9,
     "metadata": {},
     "output_type": "execute_result"
    }
   ],
   "source": [
    "#Try with a more difficult fn\n",
    "fn(x)=x^3+4*x^2+2\n",
    "fn_prime(x)=3*x^2+8*x\n",
    "sol1=newtonsmethod(fn,fn_prime,5,0.0001,100)\n"
   ]
  },
  {
   "cell_type": "code",
   "execution_count": 10,
   "metadata": {},
   "outputs": [
    {
     "data": {
      "text/plain": [
       "0.0"
      ]
     },
     "execution_count": 10,
     "metadata": {},
     "output_type": "execute_result"
    }
   ],
   "source": [
    "test1=sol1[1]\n",
    "fn(test1)"
   ]
  },
  {
   "cell_type": "markdown",
   "metadata": {},
   "source": [
    "### Function Two: Takes f and calculates f' using ForwardDiff"
   ]
  },
  {
   "cell_type": "code",
   "execution_count": 14,
   "metadata": {},
   "outputs": [
    {
     "data": {
      "text/plain": [
       "newtonsmethod2 (generic function with 1 method)"
      ]
     },
     "execution_count": 14,
     "metadata": {},
     "output_type": "execute_result"
    }
   ],
   "source": [
    "#Newton's Method with Autodiff\n",
    "\n",
    "using ForwardDiff\n",
    "\n",
    "function newtonsmethod2(f,x_0,tolerance,maxiter)\n",
    "    #find derivate of f\n",
    "    D(f) = x -> ForwardDiff.derivative(f, x)\n",
    "    f_prime=D(f)\n",
    "    x_old=x_0\n",
    "    normdiff=Inf\n",
    "    iter=1\n",
    "    while normdiff>tolerance && iter<=maxiter\n",
    "        x_new= x_old - f(x_old)/f_prime(x_old)\n",
    "        normdiff=norm(x_new-x_old)\n",
    "        x_old=x_new\n",
    "        iter += 1 \n",
    "    end\n",
    "    return (value=x_old,normdiff=normdiff,iter=iter)\n",
    "end"
   ]
  },
  {
   "cell_type": "code",
   "execution_count": 15,
   "metadata": {},
   "outputs": [
    {
     "data": {
      "text/plain": [
       "(value = 1.0001584085121695, normdiff = 7.920425608465287e-5, iter = 26)"
      ]
     },
     "execution_count": 15,
     "metadata": {},
     "output_type": "execute_result"
    }
   ],
   "source": [
    "#Test\n",
    "fn8(x)= (x-1)^3\n",
    "sol3=newtonsmethod2(fn8,5,0.0001,100)\n"
   ]
  },
  {
   "cell_type": "code",
   "execution_count": 16,
   "metadata": {},
   "outputs": [
    {
     "data": {
      "text/plain": [
       "(value = 6.283185307196663, normdiff = 1.732558499512038e-5, iter = 6)"
      ]
     },
     "execution_count": 16,
     "metadata": {},
     "output_type": "execute_result"
    }
   ],
   "source": [
    "#Test 2\n",
    "fn_test(x)=sum(sin, x) + prod(tan, x) * sum(sqrt, x) #taken from github doc\n",
    "sol4=newtonsmethod2(fn_test,5,0.0001,100)"
   ]
  },
  {
   "cell_type": "code",
   "execution_count": null,
   "metadata": {},
   "outputs": [],
   "source": []
  }
 ],
 "metadata": {
  "kernelspec": {
   "display_name": "Julia 1.5.0",
   "language": "julia",
   "name": "julia-1.5"
  },
  "language_info": {
   "file_extension": ".jl",
   "mimetype": "application/julia",
   "name": "julia",
   "version": "1.5.0"
  }
 },
 "nbformat": 4,
 "nbformat_minor": 4
}
